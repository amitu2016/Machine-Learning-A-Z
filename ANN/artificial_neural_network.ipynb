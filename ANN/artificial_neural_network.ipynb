{
  "nbformat": 4,
  "nbformat_minor": 0,
  "metadata": {
    "colab": {
      "name": "artificial_neural_network.ipynb",
      "provenance": [],
      "collapsed_sections": [],
      "toc_visible": true,
      "include_colab_link": true
    },
    "kernelspec": {
      "name": "python3",
      "display_name": "Python 3"
    }
  },
  "cells": [
    {
      "cell_type": "markdown",
      "metadata": {
        "id": "view-in-github",
        "colab_type": "text"
      },
      "source": [
        "<a href=\"https://colab.research.google.com/github/amitu2016/Machine-Learning-A-Z/blob/master/ANN/artificial_neural_network.ipynb\" target=\"_parent\"><img src=\"https://colab.research.google.com/assets/colab-badge.svg\" alt=\"Open In Colab\"/></a>"
      ]
    },
    {
      "cell_type": "markdown",
      "metadata": {
        "id": "lP6JLo1tGNBg",
        "colab_type": "text"
      },
      "source": [
        "# Artificial Neural Network"
      ]
    },
    {
      "cell_type": "markdown",
      "metadata": {
        "id": "gWZyYmS_UE_L",
        "colab_type": "text"
      },
      "source": [
        "### Importing the libraries"
      ]
    },
    {
      "cell_type": "code",
      "metadata": {
        "id": "KSUFt_lp1L6F",
        "colab_type": "code",
        "colab": {}
      },
      "source": [
        "import numpy as np\n",
        "import pandas as pd\n",
        "import tensorflow as tf"
      ],
      "execution_count": 4,
      "outputs": []
    },
    {
      "cell_type": "code",
      "metadata": {
        "id": "SuryKnLp1mmL",
        "colab_type": "code",
        "colab": {
          "base_uri": "https://localhost:8080/",
          "height": 35
        },
        "outputId": "c04bdb0a-95b5-49c0-d86d-e82d5eefc7ba"
      },
      "source": [
        "tf.__version__"
      ],
      "execution_count": 5,
      "outputs": [
        {
          "output_type": "execute_result",
          "data": {
            "application/vnd.google.colaboratory.intrinsic+json": {
              "type": "string"
            },
            "text/plain": [
              "'2.3.0'"
            ]
          },
          "metadata": {
            "tags": []
          },
          "execution_count": 5
        }
      ]
    },
    {
      "cell_type": "markdown",
      "metadata": {
        "id": "1E0Q3aoKUCRX",
        "colab_type": "text"
      },
      "source": [
        "## Part 1 - Data Preprocessing"
      ]
    },
    {
      "cell_type": "markdown",
      "metadata": {
        "id": "cKWAkFVGUU0Z",
        "colab_type": "text"
      },
      "source": [
        "### Importing the dataset"
      ]
    },
    {
      "cell_type": "code",
      "metadata": {
        "id": "EdFmqrsb2iHe",
        "colab_type": "code",
        "colab": {}
      },
      "source": [
        "dataset = pd.read_csv('Churn_Modelling.csv')\n",
        "X = dataset.iloc[ : , 3:-1 ].values\n",
        "y = dataset.iloc[: , -1].values"
      ],
      "execution_count": 6,
      "outputs": []
    },
    {
      "cell_type": "code",
      "metadata": {
        "id": "RFKxffF43Zsa",
        "colab_type": "code",
        "colab": {
          "base_uri": "https://localhost:8080/",
          "height": 136
        },
        "outputId": "fe004687-45b9-4a89-a853-2f9c067035bd"
      },
      "source": [
        "print(X)"
      ],
      "execution_count": 7,
      "outputs": [
        {
          "output_type": "stream",
          "text": [
            "[[619 'France' 'Female' ... 1 1 101348.88]\n",
            " [608 'Spain' 'Female' ... 0 1 112542.58]\n",
            " [502 'France' 'Female' ... 1 0 113931.57]\n",
            " ...\n",
            " [709 'France' 'Female' ... 0 1 42085.58]\n",
            " [772 'Germany' 'Male' ... 1 0 92888.52]\n",
            " [792 'France' 'Female' ... 1 0 38190.78]]\n"
          ],
          "name": "stdout"
        }
      ]
    },
    {
      "cell_type": "code",
      "metadata": {
        "id": "1hz6XFgF3ZxK",
        "colab_type": "code",
        "colab": {
          "base_uri": "https://localhost:8080/",
          "height": 34
        },
        "outputId": "981035a3-9ea3-4c52-96ba-97c2eba16450"
      },
      "source": [
        "print(y)"
      ],
      "execution_count": 8,
      "outputs": [
        {
          "output_type": "stream",
          "text": [
            "[1 0 1 ... 1 1 0]\n"
          ],
          "name": "stdout"
        }
      ]
    },
    {
      "cell_type": "markdown",
      "metadata": {
        "id": "N6bQ0UgSU-NJ",
        "colab_type": "text"
      },
      "source": [
        "### Encoding categorical data"
      ]
    },
    {
      "cell_type": "markdown",
      "metadata": {
        "id": "le5MJreAbW52",
        "colab_type": "text"
      },
      "source": [
        "Label Encoding the \"Gender\" column"
      ]
    },
    {
      "cell_type": "code",
      "metadata": {
        "id": "DsXF25Ui4BcL",
        "colab_type": "code",
        "colab": {}
      },
      "source": [
        "from sklearn.preprocessing import LabelEncoder\n",
        "le = LabelEncoder()\n",
        "X[ :, 2] = le.fit_transform(X[ :, 2])"
      ],
      "execution_count": 10,
      "outputs": []
    },
    {
      "cell_type": "code",
      "metadata": {
        "id": "v-i3RWX7475a",
        "colab_type": "code",
        "colab": {
          "base_uri": "https://localhost:8080/",
          "height": 136
        },
        "outputId": "0c54b6d7-3980-4418-bc17-daa698a98d18"
      },
      "source": [
        "print(X)"
      ],
      "execution_count": 11,
      "outputs": [
        {
          "output_type": "stream",
          "text": [
            "[[619 'France' 0 ... 1 1 101348.88]\n",
            " [608 'Spain' 0 ... 0 1 112542.58]\n",
            " [502 'France' 0 ... 1 0 113931.57]\n",
            " ...\n",
            " [709 'France' 0 ... 0 1 42085.58]\n",
            " [772 'Germany' 1 ... 1 0 92888.52]\n",
            " [792 'France' 0 ... 1 0 38190.78]]\n"
          ],
          "name": "stdout"
        }
      ]
    },
    {
      "cell_type": "markdown",
      "metadata": {
        "id": "CUxGZezpbMcb",
        "colab_type": "text"
      },
      "source": [
        "One Hot Encoding the \"Geography\" column"
      ]
    },
    {
      "cell_type": "code",
      "metadata": {
        "id": "_CK6EG-z5PrE",
        "colab_type": "code",
        "colab": {}
      },
      "source": [
        "from sklearn.compose import  ColumnTransformer\n",
        "from sklearn.preprocessing import OneHotEncoder\n",
        "ct = ColumnTransformer(transformers=[('encoder', OneHotEncoder(), [1])], remainder='passthrough')\n",
        "X = np.array(ct.fit_transform(X))"
      ],
      "execution_count": 12,
      "outputs": []
    },
    {
      "cell_type": "code",
      "metadata": {
        "id": "W5DQpH3e57I2",
        "colab_type": "code",
        "colab": {
          "base_uri": "https://localhost:8080/",
          "height": 136
        },
        "outputId": "77b810a1-7fbe-4819-f30c-eafd5ac465a7"
      },
      "source": [
        "print(X)"
      ],
      "execution_count": 13,
      "outputs": [
        {
          "output_type": "stream",
          "text": [
            "[[1.0 0.0 0.0 ... 1 1 101348.88]\n",
            " [0.0 0.0 1.0 ... 0 1 112542.58]\n",
            " [1.0 0.0 0.0 ... 1 0 113931.57]\n",
            " ...\n",
            " [1.0 0.0 0.0 ... 0 1 42085.58]\n",
            " [0.0 1.0 0.0 ... 1 0 92888.52]\n",
            " [1.0 0.0 0.0 ... 1 0 38190.78]]\n"
          ],
          "name": "stdout"
        }
      ]
    },
    {
      "cell_type": "markdown",
      "metadata": {
        "id": "vHol938cW8zd",
        "colab_type": "text"
      },
      "source": [
        "### Splitting the dataset into the Training set and Test set"
      ]
    },
    {
      "cell_type": "code",
      "metadata": {
        "id": "wl9VoglZ6KIb",
        "colab_type": "code",
        "colab": {}
      },
      "source": [
        "from sklearn.model_selection import  train_test_split\n",
        "X_train, X_test, y_train, y_test = train_test_split(X, y, test_size = 0.2, random_state =1 )"
      ],
      "execution_count": 14,
      "outputs": []
    },
    {
      "cell_type": "markdown",
      "metadata": {
        "id": "RE_FcHyfV3TQ",
        "colab_type": "text"
      },
      "source": [
        "### Feature Scaling"
      ]
    },
    {
      "cell_type": "code",
      "metadata": {
        "id": "lj8L2wan6dRa",
        "colab_type": "code",
        "colab": {}
      },
      "source": [
        "from sklearn.preprocessing import StandardScaler\n",
        "sc = StandardScaler()\n",
        "X_train = sc.fit_transform(X_train)\n",
        "X_test = sc.transform(X_test)"
      ],
      "execution_count": 15,
      "outputs": []
    },
    {
      "cell_type": "code",
      "metadata": {
        "id": "uwUUl30Z7Fua",
        "colab_type": "code",
        "colab": {
          "base_uri": "https://localhost:8080/",
          "height": 238
        },
        "outputId": "a1e5ad43-be57-47ae-ea57-7f7fce5133ac"
      },
      "source": [
        "print(X_train)"
      ],
      "execution_count": 16,
      "outputs": [
        {
          "output_type": "stream",
          "text": [
            "[[-0.99850112  1.71490137 -0.57273139 ... -1.55337352  0.97725852\n",
            "   0.42739449]\n",
            " [ 1.00150113 -0.58312392 -0.57273139 ... -1.55337352 -1.02327069\n",
            "  -1.02548708]\n",
            " [-0.99850112  1.71490137 -0.57273139 ...  0.64376017  0.97725852\n",
            "  -0.94479772]\n",
            " ...\n",
            " [ 1.00150113 -0.58312392 -0.57273139 ...  0.64376017  0.97725852\n",
            "  -0.14096853]\n",
            " [ 1.00150113 -0.58312392 -0.57273139 ...  0.64376017  0.97725852\n",
            "   0.01781218]\n",
            " [-0.99850112  1.71490137 -0.57273139 ...  0.64376017 -1.02327069\n",
            "  -1.15822478]]\n"
          ],
          "name": "stdout"
        }
      ]
    },
    {
      "cell_type": "code",
      "metadata": {
        "id": "VpmGr7Mc7F1h",
        "colab_type": "code",
        "colab": {
          "base_uri": "https://localhost:8080/",
          "height": 238
        },
        "outputId": "8c208cf4-e4c5-4c45-a485-e98d4fc33f31"
      },
      "source": [
        "print(X_test)"
      ],
      "execution_count": 17,
      "outputs": [
        {
          "output_type": "stream",
          "text": [
            "[[ 1.00150113 -0.58312392 -0.57273139 ...  0.64376017  0.97725852\n",
            "  -0.05360571]\n",
            " [ 1.00150113 -0.58312392 -0.57273139 ...  0.64376017 -1.02327069\n",
            "  -0.58392685]\n",
            " [ 1.00150113 -0.58312392 -0.57273139 ... -1.55337352  0.97725852\n",
            "  -0.16685331]\n",
            " ...\n",
            " [-0.99850112 -0.58312392  1.74601919 ... -1.55337352  0.97725852\n",
            "   1.0669965 ]\n",
            " [-0.99850112  1.71490137 -0.57273139 ...  0.64376017  0.97725852\n",
            "   1.13101314]\n",
            " [-0.99850112  1.71490137 -0.57273139 ...  0.64376017  0.97725852\n",
            "  -0.88790165]]\n"
          ],
          "name": "stdout"
        }
      ]
    },
    {
      "cell_type": "markdown",
      "metadata": {
        "id": "-zfEzkRVXIwF",
        "colab_type": "text"
      },
      "source": [
        "## Part 2 - Building the ANN"
      ]
    },
    {
      "cell_type": "markdown",
      "metadata": {
        "id": "KvdeScabXtlB",
        "colab_type": "text"
      },
      "source": [
        "### Initializing the ANN"
      ]
    },
    {
      "cell_type": "code",
      "metadata": {
        "id": "WrToBf3i7-cK",
        "colab_type": "code",
        "colab": {}
      },
      "source": [
        "ann = tf.keras.models.Sequential()"
      ],
      "execution_count": 18,
      "outputs": []
    },
    {
      "cell_type": "markdown",
      "metadata": {
        "id": "rP6urV6SX7kS",
        "colab_type": "text"
      },
      "source": [
        "### Adding the input layer and the first hidden layer"
      ]
    },
    {
      "cell_type": "code",
      "metadata": {
        "id": "4ggX5SXv8Qdb",
        "colab_type": "code",
        "colab": {}
      },
      "source": [
        "ann.add(tf.keras.layers.Dense(units=6, activation='relu'))"
      ],
      "execution_count": 19,
      "outputs": []
    },
    {
      "cell_type": "markdown",
      "metadata": {
        "id": "BELWAc_8YJze",
        "colab_type": "text"
      },
      "source": [
        "### Adding the second hidden layer"
      ]
    },
    {
      "cell_type": "code",
      "metadata": {
        "id": "_bko34QP-jKE",
        "colab_type": "code",
        "colab": {}
      },
      "source": [
        "ann.add(tf.keras.layers.Dense(units=6, activation='relu'))"
      ],
      "execution_count": 20,
      "outputs": []
    },
    {
      "cell_type": "markdown",
      "metadata": {
        "id": "OyNEe6RXYcU4",
        "colab_type": "text"
      },
      "source": [
        "### Adding the output layer"
      ]
    },
    {
      "cell_type": "code",
      "metadata": {
        "id": "g0lcM4-S-mMq",
        "colab_type": "code",
        "colab": {}
      },
      "source": [
        "ann.add(tf.keras.layers.Dense(units=1, activation='sigmoid'))"
      ],
      "execution_count": 21,
      "outputs": []
    },
    {
      "cell_type": "markdown",
      "metadata": {
        "id": "JT4u2S1_Y4WG",
        "colab_type": "text"
      },
      "source": [
        "## Part 3 - Training the ANN"
      ]
    },
    {
      "cell_type": "markdown",
      "metadata": {
        "id": "8GWlJChhY_ZI",
        "colab_type": "text"
      },
      "source": [
        "### Compiling the ANN"
      ]
    },
    {
      "cell_type": "code",
      "metadata": {
        "id": "nNV6kItfAocR",
        "colab_type": "code",
        "colab": {}
      },
      "source": [
        "ann.compile(optimizer='adam', loss='binary_crossentropy', metrics= ['accuracy'])"
      ],
      "execution_count": 22,
      "outputs": []
    },
    {
      "cell_type": "markdown",
      "metadata": {
        "id": "0QR_G5u7ZLSM",
        "colab_type": "text"
      },
      "source": [
        "### Training the ANN on the Training set"
      ]
    },
    {
      "cell_type": "code",
      "metadata": {
        "id": "3_OYoEHnBEdh",
        "colab_type": "code",
        "colab": {
          "base_uri": "https://localhost:8080/",
          "height": 1000
        },
        "outputId": "3f3d6ee3-b374-4a2d-ff19-8a267ef1063d"
      },
      "source": [
        "ann.fit(X_train, y_train, batch_size= 32, epochs= 100)"
      ],
      "execution_count": 23,
      "outputs": [
        {
          "output_type": "stream",
          "text": [
            "Epoch 1/100\n",
            "250/250 [==============================] - 0s 878us/step - loss: 0.5992 - accuracy: 0.7061\n",
            "Epoch 2/100\n",
            "250/250 [==============================] - 0s 771us/step - loss: 0.4821 - accuracy: 0.7972\n",
            "Epoch 3/100\n",
            "250/250 [==============================] - 0s 773us/step - loss: 0.4586 - accuracy: 0.7972\n",
            "Epoch 4/100\n",
            "250/250 [==============================] - 0s 793us/step - loss: 0.4445 - accuracy: 0.7975\n",
            "Epoch 5/100\n",
            "250/250 [==============================] - 0s 749us/step - loss: 0.4360 - accuracy: 0.7995\n",
            "Epoch 6/100\n",
            "250/250 [==============================] - 0s 814us/step - loss: 0.4314 - accuracy: 0.8073\n",
            "Epoch 7/100\n",
            "250/250 [==============================] - 0s 749us/step - loss: 0.4285 - accuracy: 0.8126\n",
            "Epoch 8/100\n",
            "250/250 [==============================] - 0s 790us/step - loss: 0.4258 - accuracy: 0.8173\n",
            "Epoch 9/100\n",
            "250/250 [==============================] - 0s 831us/step - loss: 0.4238 - accuracy: 0.8206\n",
            "Epoch 10/100\n",
            "250/250 [==============================] - 0s 871us/step - loss: 0.4215 - accuracy: 0.8213\n",
            "Epoch 11/100\n",
            "250/250 [==============================] - 0s 850us/step - loss: 0.4197 - accuracy: 0.8231\n",
            "Epoch 12/100\n",
            "250/250 [==============================] - 0s 741us/step - loss: 0.4181 - accuracy: 0.8232\n",
            "Epoch 13/100\n",
            "250/250 [==============================] - 0s 766us/step - loss: 0.4166 - accuracy: 0.8246\n",
            "Epoch 14/100\n",
            "250/250 [==============================] - 0s 752us/step - loss: 0.4151 - accuracy: 0.8251\n",
            "Epoch 15/100\n",
            "250/250 [==============================] - 0s 790us/step - loss: 0.4139 - accuracy: 0.8248\n",
            "Epoch 16/100\n",
            "250/250 [==============================] - 0s 880us/step - loss: 0.4128 - accuracy: 0.8248\n",
            "Epoch 17/100\n",
            "250/250 [==============================] - 0s 771us/step - loss: 0.4118 - accuracy: 0.8255\n",
            "Epoch 18/100\n",
            "250/250 [==============================] - 0s 759us/step - loss: 0.4107 - accuracy: 0.8265\n",
            "Epoch 19/100\n",
            "250/250 [==============================] - 0s 793us/step - loss: 0.4095 - accuracy: 0.8273\n",
            "Epoch 20/100\n",
            "250/250 [==============================] - 0s 764us/step - loss: 0.4086 - accuracy: 0.8289\n",
            "Epoch 21/100\n",
            "250/250 [==============================] - 0s 841us/step - loss: 0.4076 - accuracy: 0.8292\n",
            "Epoch 22/100\n",
            "250/250 [==============================] - 0s 770us/step - loss: 0.4069 - accuracy: 0.8298\n",
            "Epoch 23/100\n",
            "250/250 [==============================] - 0s 772us/step - loss: 0.4065 - accuracy: 0.8301\n",
            "Epoch 24/100\n",
            "250/250 [==============================] - 0s 788us/step - loss: 0.4058 - accuracy: 0.8300\n",
            "Epoch 25/100\n",
            "250/250 [==============================] - 0s 759us/step - loss: 0.4054 - accuracy: 0.8313\n",
            "Epoch 26/100\n",
            "250/250 [==============================] - 0s 830us/step - loss: 0.4045 - accuracy: 0.8345\n",
            "Epoch 27/100\n",
            "250/250 [==============================] - 0s 758us/step - loss: 0.4042 - accuracy: 0.8336\n",
            "Epoch 28/100\n",
            "250/250 [==============================] - 0s 768us/step - loss: 0.4038 - accuracy: 0.8338\n",
            "Epoch 29/100\n",
            "250/250 [==============================] - 0s 775us/step - loss: 0.4027 - accuracy: 0.8330\n",
            "Epoch 30/100\n",
            "250/250 [==============================] - 0s 781us/step - loss: 0.4034 - accuracy: 0.8328\n",
            "Epoch 31/100\n",
            "250/250 [==============================] - 0s 884us/step - loss: 0.4023 - accuracy: 0.8338\n",
            "Epoch 32/100\n",
            "250/250 [==============================] - 0s 822us/step - loss: 0.4021 - accuracy: 0.8340\n",
            "Epoch 33/100\n",
            "250/250 [==============================] - 0s 777us/step - loss: 0.4016 - accuracy: 0.8344\n",
            "Epoch 34/100\n",
            "250/250 [==============================] - 0s 779us/step - loss: 0.4013 - accuracy: 0.8355\n",
            "Epoch 35/100\n",
            "250/250 [==============================] - 0s 790us/step - loss: 0.4012 - accuracy: 0.8347\n",
            "Epoch 36/100\n",
            "250/250 [==============================] - 0s 801us/step - loss: 0.4007 - accuracy: 0.8339\n",
            "Epoch 37/100\n",
            "250/250 [==============================] - 0s 771us/step - loss: 0.4002 - accuracy: 0.8353\n",
            "Epoch 38/100\n",
            "250/250 [==============================] - 0s 792us/step - loss: 0.3999 - accuracy: 0.8351\n",
            "Epoch 39/100\n",
            "250/250 [==============================] - 0s 763us/step - loss: 0.3994 - accuracy: 0.8361\n",
            "Epoch 40/100\n",
            "250/250 [==============================] - 0s 768us/step - loss: 0.3987 - accuracy: 0.8353\n",
            "Epoch 41/100\n",
            "250/250 [==============================] - 0s 815us/step - loss: 0.3983 - accuracy: 0.8347\n",
            "Epoch 42/100\n",
            "250/250 [==============================] - 0s 771us/step - loss: 0.3975 - accuracy: 0.8361\n",
            "Epoch 43/100\n",
            "250/250 [==============================] - 0s 790us/step - loss: 0.3972 - accuracy: 0.8378\n",
            "Epoch 44/100\n",
            "250/250 [==============================] - 0s 772us/step - loss: 0.3961 - accuracy: 0.8353\n",
            "Epoch 45/100\n",
            "250/250 [==============================] - 0s 791us/step - loss: 0.3955 - accuracy: 0.8367\n",
            "Epoch 46/100\n",
            "250/250 [==============================] - 0s 834us/step - loss: 0.3947 - accuracy: 0.8365\n",
            "Epoch 47/100\n",
            "250/250 [==============================] - 0s 757us/step - loss: 0.3938 - accuracy: 0.8355\n",
            "Epoch 48/100\n",
            "250/250 [==============================] - 0s 773us/step - loss: 0.3925 - accuracy: 0.8347\n",
            "Epoch 49/100\n",
            "250/250 [==============================] - 0s 778us/step - loss: 0.3913 - accuracy: 0.8360\n",
            "Epoch 50/100\n",
            "250/250 [==============================] - 0s 768us/step - loss: 0.3901 - accuracy: 0.8367\n",
            "Epoch 51/100\n",
            "250/250 [==============================] - 0s 869us/step - loss: 0.3895 - accuracy: 0.8347\n",
            "Epoch 52/100\n",
            "250/250 [==============================] - 0s 755us/step - loss: 0.3885 - accuracy: 0.8354\n",
            "Epoch 53/100\n",
            "250/250 [==============================] - 0s 777us/step - loss: 0.3877 - accuracy: 0.8357\n",
            "Epoch 54/100\n",
            "250/250 [==============================] - 0s 811us/step - loss: 0.3869 - accuracy: 0.8350\n",
            "Epoch 55/100\n",
            "250/250 [==============================] - 0s 776us/step - loss: 0.3857 - accuracy: 0.8356\n",
            "Epoch 56/100\n",
            "250/250 [==============================] - 0s 794us/step - loss: 0.3853 - accuracy: 0.8351\n",
            "Epoch 57/100\n",
            "250/250 [==============================] - 0s 769us/step - loss: 0.3842 - accuracy: 0.8356\n",
            "Epoch 58/100\n",
            "250/250 [==============================] - 0s 766us/step - loss: 0.3831 - accuracy: 0.8357\n",
            "Epoch 59/100\n",
            "250/250 [==============================] - 0s 765us/step - loss: 0.3824 - accuracy: 0.8356\n",
            "Epoch 60/100\n",
            "250/250 [==============================] - 0s 796us/step - loss: 0.3808 - accuracy: 0.8354\n",
            "Epoch 61/100\n",
            "250/250 [==============================] - 0s 838us/step - loss: 0.3798 - accuracy: 0.8355\n",
            "Epoch 62/100\n",
            "250/250 [==============================] - 0s 773us/step - loss: 0.3773 - accuracy: 0.8364\n",
            "Epoch 63/100\n",
            "250/250 [==============================] - 0s 788us/step - loss: 0.3751 - accuracy: 0.8369\n",
            "Epoch 64/100\n",
            "250/250 [==============================] - 0s 883us/step - loss: 0.3728 - accuracy: 0.8388\n",
            "Epoch 65/100\n",
            "250/250 [==============================] - 0s 865us/step - loss: 0.3696 - accuracy: 0.8416\n",
            "Epoch 66/100\n",
            "250/250 [==============================] - 0s 867us/step - loss: 0.3669 - accuracy: 0.8449\n",
            "Epoch 67/100\n",
            "250/250 [==============================] - 0s 850us/step - loss: 0.3631 - accuracy: 0.8487\n",
            "Epoch 68/100\n",
            "250/250 [==============================] - 0s 765us/step - loss: 0.3594 - accuracy: 0.8500\n",
            "Epoch 69/100\n",
            "250/250 [==============================] - 0s 778us/step - loss: 0.3557 - accuracy: 0.8530\n",
            "Epoch 70/100\n",
            "250/250 [==============================] - 0s 779us/step - loss: 0.3525 - accuracy: 0.8520\n",
            "Epoch 71/100\n",
            "250/250 [==============================] - 0s 818us/step - loss: 0.3503 - accuracy: 0.8544\n",
            "Epoch 72/100\n",
            "250/250 [==============================] - 0s 761us/step - loss: 0.3477 - accuracy: 0.8553\n",
            "Epoch 73/100\n",
            "250/250 [==============================] - 0s 806us/step - loss: 0.3464 - accuracy: 0.8575\n",
            "Epoch 74/100\n",
            "250/250 [==============================] - 0s 771us/step - loss: 0.3447 - accuracy: 0.8577\n",
            "Epoch 75/100\n",
            "250/250 [==============================] - 0s 767us/step - loss: 0.3438 - accuracy: 0.8581\n",
            "Epoch 76/100\n",
            "250/250 [==============================] - 0s 840us/step - loss: 0.3428 - accuracy: 0.8594\n",
            "Epoch 77/100\n",
            "250/250 [==============================] - 0s 771us/step - loss: 0.3420 - accuracy: 0.8601\n",
            "Epoch 78/100\n",
            "250/250 [==============================] - 0s 761us/step - loss: 0.3414 - accuracy: 0.8611\n",
            "Epoch 79/100\n",
            "250/250 [==============================] - 0s 761us/step - loss: 0.3409 - accuracy: 0.8602\n",
            "Epoch 80/100\n",
            "250/250 [==============================] - 0s 763us/step - loss: 0.3404 - accuracy: 0.8609\n",
            "Epoch 81/100\n",
            "250/250 [==============================] - 0s 784us/step - loss: 0.3398 - accuracy: 0.8600\n",
            "Epoch 82/100\n",
            "250/250 [==============================] - 0s 770us/step - loss: 0.3399 - accuracy: 0.8608\n",
            "Epoch 83/100\n",
            "250/250 [==============================] - 0s 768us/step - loss: 0.3395 - accuracy: 0.8610\n",
            "Epoch 84/100\n",
            "250/250 [==============================] - 0s 810us/step - loss: 0.3389 - accuracy: 0.8594\n",
            "Epoch 85/100\n",
            "250/250 [==============================] - 0s 858us/step - loss: 0.3391 - accuracy: 0.8596\n",
            "Epoch 86/100\n",
            "250/250 [==============================] - 0s 796us/step - loss: 0.3395 - accuracy: 0.8597\n",
            "Epoch 87/100\n",
            "250/250 [==============================] - 0s 830us/step - loss: 0.3390 - accuracy: 0.8589\n",
            "Epoch 88/100\n",
            "250/250 [==============================] - 0s 881us/step - loss: 0.3387 - accuracy: 0.8612\n",
            "Epoch 89/100\n",
            "250/250 [==============================] - 0s 760us/step - loss: 0.3384 - accuracy: 0.8616\n",
            "Epoch 90/100\n",
            "250/250 [==============================] - 0s 796us/step - loss: 0.3387 - accuracy: 0.8597\n",
            "Epoch 91/100\n",
            "250/250 [==============================] - 0s 761us/step - loss: 0.3385 - accuracy: 0.8606\n",
            "Epoch 92/100\n",
            "250/250 [==============================] - 0s 927us/step - loss: 0.3384 - accuracy: 0.8612\n",
            "Epoch 93/100\n",
            "250/250 [==============================] - 0s 914us/step - loss: 0.3380 - accuracy: 0.8606\n",
            "Epoch 94/100\n",
            "250/250 [==============================] - 0s 872us/step - loss: 0.3384 - accuracy: 0.8608\n",
            "Epoch 95/100\n",
            "250/250 [==============================] - 0s 852us/step - loss: 0.3382 - accuracy: 0.8612\n",
            "Epoch 96/100\n",
            "250/250 [==============================] - 0s 904us/step - loss: 0.3379 - accuracy: 0.8590\n",
            "Epoch 97/100\n",
            "250/250 [==============================] - 0s 905us/step - loss: 0.3377 - accuracy: 0.8608\n",
            "Epoch 98/100\n",
            "250/250 [==============================] - 0s 845us/step - loss: 0.3375 - accuracy: 0.8605\n",
            "Epoch 99/100\n",
            "250/250 [==============================] - 0s 759us/step - loss: 0.3376 - accuracy: 0.8604\n",
            "Epoch 100/100\n",
            "250/250 [==============================] - 0s 794us/step - loss: 0.3373 - accuracy: 0.8610\n"
          ],
          "name": "stdout"
        },
        {
          "output_type": "execute_result",
          "data": {
            "text/plain": [
              "<tensorflow.python.keras.callbacks.History at 0x7f744d995d30>"
            ]
          },
          "metadata": {
            "tags": []
          },
          "execution_count": 23
        }
      ]
    },
    {
      "cell_type": "markdown",
      "metadata": {
        "id": "tJj5k2MxZga3",
        "colab_type": "text"
      },
      "source": [
        "## Part 4 - Making the predictions and evaluating the model"
      ]
    },
    {
      "cell_type": "markdown",
      "metadata": {
        "id": "84QFoqGYeXHL",
        "colab_type": "text"
      },
      "source": [
        "### Predicting the result of a single observation"
      ]
    },
    {
      "cell_type": "markdown",
      "metadata": {
        "id": "CGRo3eacgDdC",
        "colab_type": "text"
      },
      "source": [
        "**Homework**\n",
        "\n",
        "Use our ANN model to predict if the customer with the following informations will leave the bank: \n",
        "\n",
        "Geography: France\n",
        "\n",
        "Credit Score: 600\n",
        "\n",
        "Gender: Male\n",
        "\n",
        "Age: 40 years old\n",
        "\n",
        "Tenure: 3 years\n",
        "\n",
        "Balance: \\$ 60000\n",
        "\n",
        "Number of Products: 2\n",
        "\n",
        "Does this customer have a credit card? Yes\n",
        "\n",
        "Is this customer an Active Member: Yes\n",
        "\n",
        "Estimated Salary: \\$ 50000\n",
        "\n",
        "So, should we say goodbye to that customer?"
      ]
    },
    {
      "cell_type": "markdown",
      "metadata": {
        "id": "ZhU1LTgPg-kH",
        "colab_type": "text"
      },
      "source": [
        "**Solution**"
      ]
    },
    {
      "cell_type": "code",
      "metadata": {
        "id": "TMl8h0V9DmX1",
        "colab_type": "code",
        "colab": {
          "base_uri": "https://localhost:8080/",
          "height": 34
        },
        "outputId": "69c65bab-23ef-460c-b827-49ede89a440c"
      },
      "source": [
        "print(ann.predict(sc.transform([[1,0,0,600,1,40,3,60000,2,1,1,50000]]))> 0.5)"
      ],
      "execution_count": 24,
      "outputs": [
        {
          "output_type": "stream",
          "text": [
            "[[False]]\n"
          ],
          "name": "stdout"
        }
      ]
    },
    {
      "cell_type": "markdown",
      "metadata": {
        "id": "wGjx94g2n7OV",
        "colab_type": "text"
      },
      "source": [
        "Therefore, our ANN model predicts that this customer stays in the bank!\n",
        "\n",
        "**Important note 1:** Notice that the values of the features were all input in a double pair of square brackets. That's because the \"predict\" method always expects a 2D array as the format of its inputs. And putting our values into a double pair of square brackets makes the input exactly a 2D array.\n",
        "\n",
        "**Important note 2:** Notice also that the \"France\" country was not input as a string in the last column but as \"1, 0, 0\" in the first three columns. That's because of course the predict method expects the one-hot-encoded values of the state, and as we see in the first row of the matrix of features X, \"France\" was encoded as \"1, 0, 0\". And be careful to include these values in the first three columns, because the dummy variables are always created in the first columns."
      ]
    },
    {
      "cell_type": "markdown",
      "metadata": {
        "id": "u7yx47jPZt11",
        "colab_type": "text"
      },
      "source": [
        "### Predicting the Test set results"
      ]
    },
    {
      "cell_type": "code",
      "metadata": {
        "id": "vegyMIBCE2wj",
        "colab_type": "code",
        "colab": {
          "base_uri": "https://localhost:8080/",
          "height": 136
        },
        "outputId": "d4aeb42c-fdf0-4972-aa09-88802fd87c7e"
      },
      "source": [
        "y_pred = ann.predict(X_test)\n",
        "y_pred = (y_pred > 0.5)\n",
        "print(np.concatenate((y_pred.reshape(len(y_pred),1), y_test.reshape(len(y_test),1)),1))"
      ],
      "execution_count": 25,
      "outputs": [
        {
          "output_type": "stream",
          "text": [
            "[[0 0]\n",
            " [0 0]\n",
            " [0 0]\n",
            " ...\n",
            " [0 0]\n",
            " [0 0]\n",
            " [0 0]]\n"
          ],
          "name": "stdout"
        }
      ]
    },
    {
      "cell_type": "markdown",
      "metadata": {
        "id": "o0oyfLWoaEGw",
        "colab_type": "text"
      },
      "source": [
        "### Making the Confusion Matrix"
      ]
    },
    {
      "cell_type": "code",
      "metadata": {
        "id": "NwJ-O0ODFfGg",
        "colab_type": "code",
        "colab": {
          "base_uri": "https://localhost:8080/",
          "height": 68
        },
        "outputId": "90a6d8d7-069c-4276-91bc-7ed7f56801d2"
      },
      "source": [
        "from sklearn.metrics import confusion_matrix, accuracy_score\n",
        "cm = confusion_matrix(y_test, y_pred)\n",
        "print(cm)\n",
        "accuracy_score(y_test, y_pred)"
      ],
      "execution_count": 26,
      "outputs": [
        {
          "output_type": "stream",
          "text": [
            "[[1533   52]\n",
            " [ 222  193]]\n"
          ],
          "name": "stdout"
        },
        {
          "output_type": "execute_result",
          "data": {
            "text/plain": [
              "0.863"
            ]
          },
          "metadata": {
            "tags": []
          },
          "execution_count": 26
        }
      ]
    }
  ]
}